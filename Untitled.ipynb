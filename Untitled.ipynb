{
 "cells": [
  {
   "cell_type": "code",
   "execution_count": 12,
   "id": "34309715-97aa-4034-9c96-268a475bfa94",
   "metadata": {},
   "outputs": [],
   "source": [
    "# Question 1.1"
   ]
  },
  {
   "cell_type": "code",
   "execution_count": 1,
   "id": "0ce276f0-9490-41bb-8e97-79c9f91f72c8",
   "metadata": {},
   "outputs": [],
   "source": [
    "import openmc\n",
    "##Source 1: Photon point source with a constant energy of  1 ×10^6MeV.\n",
    "photon_source = openmc.IndependentSource()\n",
    "photon_source.particle = 'photon'\n",
    "photon_source.space = openmc.stats.Point((0.0, 0.0, 0.0))   # Point source at origin\n",
    "photon_source.angle = openmc.stats.Isotropic()\n",
    "photon_source.energy = openmc.stats.Discrete([1.0e12], [1.0])  # 10^6 MeV photons converted to ev\n",
    "# Set this source in OpenMC settings\n",
    "openmc.settings.source = photon_source\n"
   ]
  },
  {
   "cell_type": "code",
   "execution_count": 8,
   "id": "daeff4af-e855-4465-b866-baf39c4d1598",
   "metadata": {},
   "outputs": [],
   "source": [
    "# Question 1.2"
   ]
  },
  {
   "cell_type": "code",
   "execution_count": 9,
   "id": "1e9fcda4-9ecd-455a-a4c1-305d6d52f276",
   "metadata": {},
   "outputs": [],
   "source": [
    "import openmc\n",
    "##Source 2: Neutron point source with a constant energy of  2.5x10^-3 eV.\n",
    "Neutron_source = openmc.IndependentSource()\n",
    "Neutron_source.space = openmc.stats.Point((0.0, 0.0, 0.0))   # Point source at origin\n",
    "Neutron_source.angle = openmc.stats.Isotropic()\n",
    "Neutron_source.energy = openmc.stats.Discrete([2.5e-3], [1.0])  # 2.5x10^-3 eV neutron.\n",
    "# Set this source in OpenMC settings\n",
    "openmc.settings.source =Neutron_source"
   ]
  },
  {
   "cell_type": "code",
   "execution_count": 10,
   "id": "e05a2962-371b-4a36-b416-7508b35a3580",
   "metadata": {},
   "outputs": [],
   "source": [
    "# Question 2"
   ]
  },
  {
   "cell_type": "code",
   "execution_count": 11,
   "id": "71b2151b-abe6-4ad2-8a67-06fb3aed916d",
   "metadata": {},
   "outputs": [],
   "source": [
    "import openmc\n",
    "##assume Monodirectional Photon Point Source at Z axis with lin-lin energy distribution from 1 to 5 Mev\n",
    "point_source = openmc.IndependentSource()\n",
    "point_source.particle = 'photon'\n",
    "point_source.space = openmc.stats.Point((0.0, 0.0, 0.0))   # Point source at origin\n",
    "point_source.angle = openmc.stats.Monodirectional((0.0, 0.0, 1.0)) #Fixed direction along (Z-axis)\n",
    "# Define a linear–linear energy distribution from 1 MeV to 5 MeV\n",
    "energies = [1e6, 5e6]  # Energies in eV (1 MeV to 5 MeV)\n",
    "probabilities = [0.0, 1.0]  # Linear increase\n",
    "\n",
    "# Apply the energy distribution to the source\n",
    "energy_distribution = openmc.stats.Tabular(energies, probabilities, interpolation='linear-linear')\n",
    "point_source.energy = energy_distribution\n",
    "\n",
    "# Set this source in OpenMC settings\n",
    "openmc.settings.source = point_source\n"
   ]
  },
  {
   "cell_type": "code",
   "execution_count": null,
   "id": "001ed41d-92ce-4b83-8d47-7976285baa0f",
   "metadata": {},
   "outputs": [],
   "source": []
  },
  {
   "cell_type": "code",
   "execution_count": null,
   "id": "d00fc6c9-f3d6-41ef-84bd-bd7e45026eaa",
   "metadata": {},
   "outputs": [],
   "source": []
  }
 ],
 "metadata": {
  "kernelspec": {
   "display_name": "Python 3 (ipykernel)",
   "language": "python",
   "name": "python3"
  },
  "language_info": {
   "codemirror_mode": {
    "name": "ipython",
    "version": 3
   },
   "file_extension": ".py",
   "mimetype": "text/x-python",
   "name": "python",
   "nbconvert_exporter": "python",
   "pygments_lexer": "ipython3",
   "version": "3.11.2"
  }
 },
 "nbformat": 4,
 "nbformat_minor": 5
}
